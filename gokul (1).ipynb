{
  "nbformat": 4,
  "nbformat_minor": 0,
  "metadata": {
    "colab": {
      "name": "gokul.ipynb",
      "provenance": []
    },
    "kernelspec": {
      "name": "python3",
      "display_name": "Python 3"
    }
  },
  "cells": [
    {
      "cell_type": "code",
      "metadata": {
        "colab": {
          "base_uri": "https://localhost:8080/"
        },
        "id": "DiLHDZfcCUjj",
        "outputId": "a2b7ac86-c17f-4022-c8b4-d4b6ec1f5b5c"
      },
      "source": [
        "x=int(input(\"enter a num\"))\r\n",
        "y1=(2*x+5)/(x**2+5*x+6)\r\n",
        "y2=(x**2+5*x+6)/(2*x+5)\r\n",
        "y3=(2*x-3)*(x+9)\r\n",
        "print(\"result\",y1)\r\n",
        "print(\"result\",y2)\r\n",
        "print(\"result\",y3)"
      ],
      "execution_count": 3,
      "outputs": [
        {
          "output_type": "stream",
          "text": [
            "enter a num5\n",
            "result 0.26785714285714285\n",
            "result 3.7333333333333334\n",
            "result 98\n"
          ],
          "name": "stdout"
        }
      ]
    }
  ]
}