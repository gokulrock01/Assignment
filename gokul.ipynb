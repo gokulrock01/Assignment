{
  "nbformat": 4,
  "nbformat_minor": 0,
  "metadata": {
    "colab": {
      "name": "gokul.ipynb",
      "provenance": []
    },
    "kernelspec": {
      "name": "python3",
      "display_name": "Python 3"
    }
  },
  "cells": [
    {
      "cell_type": "code",
      "metadata": {
        "colab": {
          "base_uri": "https://localhost:8080/"
        },
        "id": "myt1pzL3f78A",
        "outputId": "21b7ed08-7f3e-4080-b94f-c697eb0d64f2"
      },
      "source": [
        "check=0\r\n",
        "while check <5:\r\n",
        "    username=input(\"enter username\")\r\n",
        "    password=input (\"enter password\")\r\n",
        "    if username == \"gokul\":\r\n",
        "        tries=0\r\n",
        "        while tries<5:\r\n",
        "            if password == \"gok\":\r\n",
        "                print(\"congrats\")\r\n",
        "                break\r\n",
        "            else :\r\n",
        "                print(\"invalid password\")\r\n",
        "                password=input (\"enter password\")\r\n",
        "                tries=tries+1\r\n",
        "        if tries ==5:\r\n",
        "            print(\" all tries are over for password\")\r\n",
        "        break\r\n",
        "     \r\n",
        "    elif username != \"gokul\":\r\n",
        "                print(\"invalid username\")\r\n",
        "                check=check+1\r\n",
        "\r\n",
        "if check==5:\r\n",
        "    print(\"all tries are over\")\r\n",
        "    \r\n",
        "            \r\n"
      ],
      "execution_count": 1,
      "outputs": [
        {
          "output_type": "stream",
          "text": [
            "enter usernamegokul\n",
            "enter passwordgok\n",
            "congrats\n"
          ],
          "name": "stdout"
        }
      ]
    }
  ]
}